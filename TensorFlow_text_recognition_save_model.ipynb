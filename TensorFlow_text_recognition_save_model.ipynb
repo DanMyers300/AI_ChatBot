{
  "nbformat": 4,
  "nbformat_minor": 0,
  "metadata": {
    "colab": {
      "provenance": [],
      "authorship_tag": "ABX9TyMpdVh1MNvtcTSX1kVpvU3/",
      "include_colab_link": true
    },
    "kernelspec": {
      "name": "python3",
      "display_name": "Python 3"
    },
    "language_info": {
      "name": "python"
    }
  },
  "cells": [
    {
      "cell_type": "markdown",
      "metadata": {
        "id": "view-in-github",
        "colab_type": "text"
      },
      "source": [
        "<a href=\"https://colab.research.google.com/github/DanMyers300/AI_ChatBot/blob/main/TensorFlow_text_recognition_save_model.ipynb\" target=\"_parent\"><img src=\"https://colab.research.google.com/assets/colab-badge.svg\" alt=\"Open In Colab\"/></a>"
      ]
    },
    {
      "cell_type": "code",
      "execution_count": 48,
      "metadata": {
        "id": "OaWsIvHB4Z0K"
      },
      "outputs": [],
      "source": [
        "import tensorflow as tf\n",
        "from tensorflow import keras\n",
        "import numpy as np"
      ]
    },
    {
      "cell_type": "code",
      "source": [
        "data = keras.datasets.imdb"
      ],
      "metadata": {
        "id": "-x6m5etI5x-O"
      },
      "execution_count": 49,
      "outputs": []
    },
    {
      "cell_type": "code",
      "source": [
        "(train_data, train_labels), (test_data, test_labels) = data.load_data(num_words=88000)"
      ],
      "metadata": {
        "id": "AB_jxEqo5yHe"
      },
      "execution_count": 50,
      "outputs": []
    },
    {
      "cell_type": "code",
      "source": [
        "word_index = data.get_word_index()\n",
        "word_index = {k:(v+3) for k, v in word_index.items()}\n",
        "word_index[\"<PAD>\"] = 0\n",
        "word_index[\"<START>\"] = 1\n",
        "word_index[\"<UNK>\"] = 2\n",
        "word_index[\"<UNUSED>\"] = 3"
      ],
      "metadata": {
        "id": "ceSJbK4O69qM"
      },
      "execution_count": 51,
      "outputs": []
    },
    {
      "cell_type": "code",
      "source": [
        "reverse_word_index = dict([value, key] for (key, value) in word_index.items())"
      ],
      "metadata": {
        "id": "fz_1sKW78Mqg"
      },
      "execution_count": 52,
      "outputs": []
    },
    {
      "cell_type": "code",
      "source": [
        "train_data = keras.preprocessing.sequence.pad_sequences(train_data, value=word_index[\"<PAD>\"], padding=\"post\", maxlen=250)\n",
        "test_data = keras.preprocessing.sequence.pad_sequences(test_data, value=word_index[\"<PAD>\"], padding=\"post\", maxlen=250)"
      ],
      "metadata": {
        "id": "8fh_NHMePGDv"
      },
      "execution_count": 53,
      "outputs": []
    },
    {
      "cell_type": "code",
      "source": [
        "def decode_review(text):\n",
        "  return \" \".join([reverse_word_index.get(i, \"?\") for i in text])"
      ],
      "metadata": {
        "id": "UbuzyX2q8zVO"
      },
      "execution_count": 54,
      "outputs": []
    },
    {
      "cell_type": "markdown",
      "source": [
        "model below here"
      ],
      "metadata": {
        "id": "y_9ktfb_wxfs"
      }
    },
    {
      "cell_type": "code",
      "source": [
        "model = keras.Sequential()\n",
        "model.add(keras.layers.Embedding(88000, 16))\n",
        "model.add(keras.layers.GlobalAveragePooling1D())\n",
        "model.add(keras.layers.Dense(16, activation=\"relu\"))\n",
        "model.add(keras.layers.Dense(1, activation=\"sigmoid\"))"
      ],
      "metadata": {
        "id": "AF-vHahpQPyC"
      },
      "execution_count": 55,
      "outputs": []
    },
    {
      "cell_type": "code",
      "source": [
        "model.summary()"
      ],
      "metadata": {
        "colab": {
          "base_uri": "https://localhost:8080/"
        },
        "id": "PSHmaaz6iTx2",
        "outputId": "dbf3906e-3446-44fd-f671-94fde8f96837"
      },
      "execution_count": 56,
      "outputs": [
        {
          "output_type": "stream",
          "name": "stdout",
          "text": [
            "Model: \"sequential_2\"\n",
            "_________________________________________________________________\n",
            " Layer (type)                Output Shape              Param #   \n",
            "=================================================================\n",
            " embedding_2 (Embedding)     (None, None, 16)          1408000   \n",
            "                                                                 \n",
            " global_average_pooling1d_2   (None, 16)               0         \n",
            " (GlobalAveragePooling1D)                                        \n",
            "                                                                 \n",
            " dense_4 (Dense)             (None, 16)                272       \n",
            "                                                                 \n",
            " dense_5 (Dense)             (None, 1)                 17        \n",
            "                                                                 \n",
            "=================================================================\n",
            "Total params: 1,408,289\n",
            "Trainable params: 1,408,289\n",
            "Non-trainable params: 0\n",
            "_________________________________________________________________\n"
          ]
        }
      ]
    },
    {
      "cell_type": "code",
      "source": [
        "model.compile(optimizer=\"adam\", loss=\"binary_crossentropy\", metrics=[\"accuracy\"])"
      ],
      "metadata": {
        "id": "opBtyQ8BifLw"
      },
      "execution_count": 57,
      "outputs": []
    },
    {
      "cell_type": "code",
      "source": [
        "x_val = train_data[:10000]\n",
        "x_train = train_data[10000:]"
      ],
      "metadata": {
        "id": "nOuvFG8kixJX"
      },
      "execution_count": 58,
      "outputs": []
    },
    {
      "cell_type": "code",
      "source": [
        "y_val = train_labels[:10000]\n",
        "y_train = train_labels[10000:]"
      ],
      "metadata": {
        "id": "m1Bp4-sSi3w2"
      },
      "execution_count": 59,
      "outputs": []
    },
    {
      "cell_type": "code",
      "source": [
        "fitModel = model.fit(x_train, y_train, epochs=40, batch_size=512, validation_data=(x_val, y_val), verbose=1)"
      ],
      "metadata": {
        "colab": {
          "base_uri": "https://localhost:8080/"
        },
        "id": "_UupiPcUjJfz",
        "outputId": "e268130a-f9d9-4f24-9d9f-05df55fdb325"
      },
      "execution_count": 60,
      "outputs": [
        {
          "output_type": "stream",
          "name": "stdout",
          "text": [
            "Epoch 1/40\n",
            "30/30 [==============================] - 2s 44ms/step - loss: 0.6919 - accuracy: 0.5990 - val_loss: 0.6898 - val_accuracy: 0.6552\n",
            "Epoch 2/40\n",
            "30/30 [==============================] - 1s 37ms/step - loss: 0.6852 - accuracy: 0.7253 - val_loss: 0.6802 - val_accuracy: 0.7506\n",
            "Epoch 3/40\n",
            "30/30 [==============================] - 1s 37ms/step - loss: 0.6696 - accuracy: 0.7638 - val_loss: 0.6608 - val_accuracy: 0.7738\n",
            "Epoch 4/40\n",
            "30/30 [==============================] - 1s 36ms/step - loss: 0.6411 - accuracy: 0.7926 - val_loss: 0.6297 - val_accuracy: 0.7865\n",
            "Epoch 5/40\n",
            "30/30 [==============================] - 1s 38ms/step - loss: 0.5999 - accuracy: 0.8171 - val_loss: 0.5886 - val_accuracy: 0.8038\n",
            "Epoch 6/40\n",
            "30/30 [==============================] - 1s 36ms/step - loss: 0.5489 - accuracy: 0.8342 - val_loss: 0.5434 - val_accuracy: 0.8161\n",
            "Epoch 7/40\n",
            "30/30 [==============================] - 1s 36ms/step - loss: 0.4950 - accuracy: 0.8519 - val_loss: 0.4971 - val_accuracy: 0.8272\n",
            "Epoch 8/40\n",
            "30/30 [==============================] - 2s 55ms/step - loss: 0.4419 - accuracy: 0.8701 - val_loss: 0.4559 - val_accuracy: 0.8393\n",
            "Epoch 9/40\n",
            "30/30 [==============================] - 2s 52ms/step - loss: 0.3944 - accuracy: 0.8857 - val_loss: 0.4210 - val_accuracy: 0.8498\n",
            "Epoch 10/40\n",
            "30/30 [==============================] - 1s 35ms/step - loss: 0.3531 - accuracy: 0.8968 - val_loss: 0.3919 - val_accuracy: 0.8579\n",
            "Epoch 11/40\n",
            "30/30 [==============================] - 1s 36ms/step - loss: 0.3175 - accuracy: 0.9070 - val_loss: 0.3683 - val_accuracy: 0.8651\n",
            "Epoch 12/40\n",
            "30/30 [==============================] - 1s 35ms/step - loss: 0.2868 - accuracy: 0.9145 - val_loss: 0.3484 - val_accuracy: 0.8719\n",
            "Epoch 13/40\n",
            "30/30 [==============================] - 1s 35ms/step - loss: 0.2607 - accuracy: 0.9233 - val_loss: 0.3332 - val_accuracy: 0.8746\n",
            "Epoch 14/40\n",
            "30/30 [==============================] - 1s 36ms/step - loss: 0.2381 - accuracy: 0.9295 - val_loss: 0.3208 - val_accuracy: 0.8778\n",
            "Epoch 15/40\n",
            "30/30 [==============================] - 1s 37ms/step - loss: 0.2180 - accuracy: 0.9367 - val_loss: 0.3110 - val_accuracy: 0.8806\n",
            "Epoch 16/40\n",
            "30/30 [==============================] - 1s 36ms/step - loss: 0.2005 - accuracy: 0.9417 - val_loss: 0.3027 - val_accuracy: 0.8828\n",
            "Epoch 17/40\n",
            "30/30 [==============================] - 1s 37ms/step - loss: 0.1848 - accuracy: 0.9489 - val_loss: 0.2959 - val_accuracy: 0.8832\n",
            "Epoch 18/40\n",
            "30/30 [==============================] - 1s 37ms/step - loss: 0.1705 - accuracy: 0.9520 - val_loss: 0.2924 - val_accuracy: 0.8842\n",
            "Epoch 19/40\n",
            "30/30 [==============================] - 2s 61ms/step - loss: 0.1578 - accuracy: 0.9578 - val_loss: 0.2861 - val_accuracy: 0.8861\n",
            "Epoch 20/40\n",
            "30/30 [==============================] - 1s 45ms/step - loss: 0.1453 - accuracy: 0.9627 - val_loss: 0.2829 - val_accuracy: 0.8860\n",
            "Epoch 21/40\n",
            "30/30 [==============================] - 1s 36ms/step - loss: 0.1346 - accuracy: 0.9663 - val_loss: 0.2799 - val_accuracy: 0.8869\n",
            "Epoch 22/40\n",
            "30/30 [==============================] - 1s 36ms/step - loss: 0.1248 - accuracy: 0.9694 - val_loss: 0.2785 - val_accuracy: 0.8882\n",
            "Epoch 23/40\n",
            "30/30 [==============================] - 1s 38ms/step - loss: 0.1160 - accuracy: 0.9728 - val_loss: 0.2780 - val_accuracy: 0.8872\n",
            "Epoch 24/40\n",
            "30/30 [==============================] - 1s 37ms/step - loss: 0.1078 - accuracy: 0.9753 - val_loss: 0.2756 - val_accuracy: 0.8894\n",
            "Epoch 25/40\n",
            "30/30 [==============================] - 1s 37ms/step - loss: 0.0999 - accuracy: 0.9786 - val_loss: 0.2765 - val_accuracy: 0.8890\n",
            "Epoch 26/40\n",
            "30/30 [==============================] - 1s 35ms/step - loss: 0.0931 - accuracy: 0.9803 - val_loss: 0.2754 - val_accuracy: 0.8897\n",
            "Epoch 27/40\n",
            "30/30 [==============================] - 1s 36ms/step - loss: 0.0866 - accuracy: 0.9828 - val_loss: 0.2753 - val_accuracy: 0.8900\n",
            "Epoch 28/40\n",
            "30/30 [==============================] - 1s 37ms/step - loss: 0.0811 - accuracy: 0.9836 - val_loss: 0.2763 - val_accuracy: 0.8898\n",
            "Epoch 29/40\n",
            "30/30 [==============================] - 1s 45ms/step - loss: 0.0754 - accuracy: 0.9857 - val_loss: 0.2770 - val_accuracy: 0.8904\n",
            "Epoch 30/40\n",
            "30/30 [==============================] - 2s 58ms/step - loss: 0.0702 - accuracy: 0.9869 - val_loss: 0.2786 - val_accuracy: 0.8900\n",
            "Epoch 31/40\n",
            "30/30 [==============================] - 1s 39ms/step - loss: 0.0655 - accuracy: 0.9882 - val_loss: 0.2795 - val_accuracy: 0.8904\n",
            "Epoch 32/40\n",
            "30/30 [==============================] - 1s 36ms/step - loss: 0.0613 - accuracy: 0.9897 - val_loss: 0.2817 - val_accuracy: 0.8885\n",
            "Epoch 33/40\n",
            "30/30 [==============================] - 1s 38ms/step - loss: 0.0576 - accuracy: 0.9903 - val_loss: 0.2830 - val_accuracy: 0.8887\n",
            "Epoch 34/40\n",
            "30/30 [==============================] - 1s 36ms/step - loss: 0.0539 - accuracy: 0.9915 - val_loss: 0.2846 - val_accuracy: 0.8893\n",
            "Epoch 35/40\n",
            "30/30 [==============================] - 1s 36ms/step - loss: 0.0507 - accuracy: 0.9920 - val_loss: 0.2887 - val_accuracy: 0.8886\n",
            "Epoch 36/40\n",
            "30/30 [==============================] - 1s 37ms/step - loss: 0.0471 - accuracy: 0.9931 - val_loss: 0.2911 - val_accuracy: 0.8876\n",
            "Epoch 37/40\n",
            "30/30 [==============================] - 1s 36ms/step - loss: 0.0443 - accuracy: 0.9938 - val_loss: 0.2923 - val_accuracy: 0.8885\n",
            "Epoch 38/40\n",
            "30/30 [==============================] - 1s 35ms/step - loss: 0.0416 - accuracy: 0.9941 - val_loss: 0.2941 - val_accuracy: 0.8883\n",
            "Epoch 39/40\n",
            "30/30 [==============================] - 1s 37ms/step - loss: 0.0391 - accuracy: 0.9946 - val_loss: 0.2968 - val_accuracy: 0.8885\n",
            "Epoch 40/40\n",
            "30/30 [==============================] - 2s 54ms/step - loss: 0.0368 - accuracy: 0.9950 - val_loss: 0.2986 - val_accuracy: 0.8881\n"
          ]
        }
      ]
    },
    {
      "cell_type": "code",
      "source": [
        "results = model.evaluate(test_data, test_labels)"
      ],
      "metadata": {
        "colab": {
          "base_uri": "https://localhost:8080/"
        },
        "id": "_fx1SxXejWhB",
        "outputId": "46b49ec3-1f9d-4da9-d614-9f5f44b47d66"
      },
      "execution_count": 61,
      "outputs": [
        {
          "output_type": "stream",
          "name": "stdout",
          "text": [
            "782/782 [==============================] - 2s 3ms/step - loss: 0.3339 - accuracy: 0.8724\n"
          ]
        }
      ]
    },
    {
      "cell_type": "code",
      "source": [
        "print(results)"
      ],
      "metadata": {
        "colab": {
          "base_uri": "https://localhost:8080/"
        },
        "id": "UkfH2Z8mjgCo",
        "outputId": "970cabb5-d4d6-4ead-b2ca-a5046dc66fe1"
      },
      "execution_count": 62,
      "outputs": [
        {
          "output_type": "stream",
          "name": "stdout",
          "text": [
            "[0.3339218497276306, 0.872439980506897]\n"
          ]
        }
      ]
    },
    {
      "cell_type": "code",
      "source": [
        "model.save(\"model.h5\")"
      ],
      "metadata": {
        "id": "MpSsDcpUssJB"
      },
      "execution_count": 63,
      "outputs": []
    },
    {
      "cell_type": "code",
      "source": [
        "'''\n",
        "test_review = test_data[0]\n",
        "predict = model.predict(np.array([test_review]))\n",
        "print(\"Review: \")\n",
        "print(decode_review(test_review))\n",
        "print(\"Prediction: \" + str(predict[0]))\n",
        "print(\"Actual: \" + str(test_labels[0]))\n",
        "print(results)\n",
        "'''"
      ],
      "metadata": {
        "colab": {
          "base_uri": "https://localhost:8080/",
          "height": 71
        },
        "id": "Jcr_h5t3jviO",
        "outputId": "7f76f235-3013-4404-97f2-199f3e4aba8d"
      },
      "execution_count": 64,
      "outputs": [
        {
          "output_type": "execute_result",
          "data": {
            "text/plain": [
              "'\\ntest_review = test_data[0]\\npredict = model.predict(np.array([test_review]))\\nprint(\"Review: \")\\nprint(decode_review(test_review))\\nprint(\"Prediction: \" + str(predict[0]))\\nprint(\"Actual: \" + str(test_labels[0]))\\nprint(results)\\n'"
            ],
            "application/vnd.google.colaboratory.intrinsic+json": {
              "type": "string"
            }
          },
          "metadata": {},
          "execution_count": 64
        }
      ]
    }
  ]
}