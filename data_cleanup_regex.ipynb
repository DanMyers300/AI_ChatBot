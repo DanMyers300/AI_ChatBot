{
  "nbformat": 4,
  "nbformat_minor": 0,
  "metadata": {
    "colab": {
      "provenance": [],
      "authorship_tag": "ABX9TyPXyZJHkVAs8M9q56Js16iz"
    },
    "kernelspec": {
      "name": "python3",
      "display_name": "Python 3"
    },
    "language_info": {
      "name": "python"
    }
  },
  "cells": [
    {
      "cell_type": "markdown",
      "source": [
        "# Started working on this but RegEX is probably a bad method"
      ],
      "metadata": {
        "id": "fU-TCh6o_zIr"
      }
    },
    {
      "cell_type": "code",
      "execution_count": 40,
      "metadata": {
        "id": "r2cfmARcrky7"
      },
      "outputs": [],
      "source": [
        "import re\n",
        "import chardet\n",
        "import json"
      ]
    },
    {
      "cell_type": "code",
      "source": [
        "with open('text.txt', 'rb') as f:\n",
        "    raw_data = f.read()\n",
        "    result = chardet.detect(raw_data)\n",
        "    encoding = result['encoding']"
      ],
      "metadata": {
        "id": "ad_QXlWInj65"
      },
      "execution_count": 41,
      "outputs": []
    },
    {
      "cell_type": "code",
      "source": [
        "# Remove empty and whitespace-only lines\n",
        "# Open the input file for reading and the output file for writing\n",
        "with open(\"text.txt\", \"r\", encoding=encoding) as infile, open(\"output.txt\", \"w\") as outfile:\n",
        "    # Read the input file line by line\n",
        "    for line in infile:\n",
        "        # Use regular expressions to check if the line is empty or contains only spaces\n",
        "        if not re.match(r'^\\s*$', line):\n",
        "            # If the line is not empty, write it to the output file\n",
        "            outfile.write(line)\n"
      ],
      "metadata": {
        "id": "WdJz8ezvvJxr"
      },
      "execution_count": 42,
      "outputs": []
    },
    {
      "cell_type": "code",
      "source": [
        "with open('output.txt', 'r', encoding=encoding) as f:\n",
        "    rfq = f.read()"
      ],
      "metadata": {
        "id": "C-1pUpOhvQsq"
      },
      "execution_count": 43,
      "outputs": []
    },
    {
      "cell_type": "code",
      "source": [
        "# Extract seller information\n",
        "seller_information = re.findall(r'Supplier \\(Seller\\) Information\\s*(.*?)\\s*Seller ID:', rfq, re.DOTALL)[0]\n",
        "seller_information = seller_information.replace(\"Ordering Information\", \"\")\n",
        "\n",
        "# seller id\n",
        "seller_id = re.findall(r\"Seller ID:\\s*(\\S.*)\", rfq)[0]\n",
        "\n",
        "# seller contact person\n",
        "seller_contact_person = re.findall(r'Seller Contact Person:\\s*(\\S.*)', rfq)[0]\n",
        "\n",
        "# seller phone number:\n",
        "seller_phone_number = re.findall(r'Seller Phone No:\\s*(\\S.*)', rfq)[0]\n",
        "\n",
        "# seller fax number:\n",
        "seller_fax_number = re.findall(r'Seller Fax No:\\s*(\\S.*)', rfq)[0]\n",
        "\n",
        "# seller email\n",
        "seller_email = re.findall(r'Seller Email:\\s*(\\S.*)', rfq)[0]"
      ],
      "metadata": {
        "id": "4I5gdwdtqqdT"
      },
      "execution_count": 44,
      "outputs": []
    },
    {
      "cell_type": "code",
      "source": [
        "# Extract RFQ information\n",
        "\n",
        "rfq_number = \"rfq_number\"\n",
        "\n",
        "date = \"date\""
      ],
      "metadata": {
        "id": "x_2YfzwlWUer"
      },
      "execution_count": 45,
      "outputs": []
    },
    {
      "cell_type": "code",
      "source": [
        "# Create a dictionary to store the extracted information\n",
        "seller_info_dict = {\n",
        "    \"Supplier Name/Address\": seller_information,\n",
        "    \"Seller ID\": seller_id,\n",
        "    \"Seller Contact Person\": seller_contact_person,\n",
        "    \"Seller Phone Number\": seller_phone_number,\n",
        "    \"Seller Fax Number\": seller_fax_number,\n",
        "    \"Seller Email\": seller_email,\n",
        "}\n",
        "\n",
        "buyer_info_dict = {}\n",
        "\n",
        "rfq_info_dict = {\n",
        "    \"RFQ Number\": rfq_number,\n",
        "    \"Date\": date,\n",
        "}"
      ],
      "metadata": {
        "id": "1OfaomUF7BtB"
      },
      "execution_count": 46,
      "outputs": []
    },
    {
      "cell_type": "code",
      "source": [
        "# Merge the dictionaries\n",
        "\n",
        "def Merge(dict1, dict2):\n",
        "  res = dict1 | dict2\n",
        "  return res"
      ],
      "metadata": {
        "id": "pXdxsev3bpYX"
      },
      "execution_count": 48,
      "outputs": []
    },
    {
      "cell_type": "code",
      "source": [
        "buyer_and_seller_dict = Merge(seller_info_dict, buyer_info_dict)"
      ],
      "metadata": {
        "id": "kRiLtgvDb2M3"
      },
      "execution_count": 49,
      "outputs": []
    },
    {
      "cell_type": "code",
      "source": [
        "total_dict = Merge(buyer_and_seller_dict, rfq_info_dict)"
      ],
      "metadata": {
        "id": "yXYtNv0McAFY"
      },
      "execution_count": 50,
      "outputs": []
    },
    {
      "cell_type": "code",
      "source": [
        "for key in total_dict:\n",
        "    total_dict[key] = total_dict[key].replace(\"\\n\", \"\")"
      ],
      "metadata": {
        "id": "34ESzhOLrrTx"
      },
      "execution_count": 51,
      "outputs": []
    },
    {
      "cell_type": "code",
      "source": [
        "print(total_dict)"
      ],
      "metadata": {
        "colab": {
          "base_uri": "https://localhost:8080/"
        },
        "id": "K2jZrMe37oAG",
        "outputId": "fe1f690b-f056-4ea6-fabf-369d614e9b4d"
      },
      "execution_count": 52,
      "outputs": [
        {
          "output_type": "stream",
          "name": "stdout",
          "text": [
            "{'Supplier Name/Address': 'HAN-BOONE INTERNATIONAL INC FORT WORTH GASKET & SUPPLY 2200 GRAVEL DRIVE FORT WORTH TX  76118-7123', 'Seller ID': '102520', 'Seller Contact Person': 'DEREK H BOONE', 'Seller Phone Number': '817-616-0392', 'Seller Fax Number': '817-838-0104', 'Seller Email': 'derek.boone@fortworthgasket.com', 'RFQ Number': 'rfq_number', 'Date': 'date'}\n"
          ]
        }
      ]
    },
    {
      "cell_type": "code",
      "source": [
        "with open ('info.json', 'w') as f:\n",
        "  json.dump(total_dict, f, indent=4)"
      ],
      "metadata": {
        "id": "F1gia0qPXxUf"
      },
      "execution_count": 53,
      "outputs": []
    }
  ]
}