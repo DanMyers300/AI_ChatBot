{
  "nbformat": 4,
  "nbformat_minor": 0,
  "metadata": {
    "colab": {
      "provenance": [],
      "authorship_tag": "ABX9TyNL5xh7MBn4tzSSJ++t/Knw"
    },
    "kernelspec": {
      "name": "python3",
      "display_name": "Python 3"
    },
    "language_info": {
      "name": "python"
    }
  },
  "cells": [
    {
      "cell_type": "code",
      "execution_count": 20,
      "metadata": {
        "id": "OaWsIvHB4Z0K"
      },
      "outputs": [],
      "source": [
        "import tensorflow as tf\n",
        "from tensorflow import keras\n",
        "import numpy as np"
      ]
    },
    {
      "cell_type": "code",
      "source": [
        "data = keras.datasets.imdb"
      ],
      "metadata": {
        "id": "-x6m5etI5x-O"
      },
      "execution_count": 21,
      "outputs": []
    },
    {
      "cell_type": "code",
      "source": [
        "(train_data, train_labels), (test_data, test_labels) = data.load_data(num_words=10000)"
      ],
      "metadata": {
        "id": "AB_jxEqo5yHe"
      },
      "execution_count": 22,
      "outputs": []
    },
    {
      "cell_type": "code",
      "source": [
        "word_index = data.get_word_index()\n",
        "word_index = {k:(v+3) for k, v in word_index.items()}\n",
        "word_index[\"<PAD>\"] = 0\n",
        "word_index[\"<START>\"] = 1\n",
        "word_index[\"<UNK>\"] = 2\n",
        "word_index[\"<UNUSED>\"] = 3"
      ],
      "metadata": {
        "id": "ceSJbK4O69qM"
      },
      "execution_count": 23,
      "outputs": []
    },
    {
      "cell_type": "code",
      "source": [
        "reverse_word_index = dict([value, key] for (key, value) in word_index.items())"
      ],
      "metadata": {
        "id": "fz_1sKW78Mqg"
      },
      "execution_count": 24,
      "outputs": []
    },
    {
      "cell_type": "code",
      "source": [
        "train_data = keras.preprocessing.sequence.pad_sequences(train_data, value=word_index[\"<PAD>\"], padding=\"post\", maxlen=250)\n",
        "test_data = keras.preprocessing.sequence.pad_sequences(test_data, value=word_index[\"<PAD>\"], padding=\"post\", maxlen=250)"
      ],
      "metadata": {
        "id": "8fh_NHMePGDv"
      },
      "execution_count": 25,
      "outputs": []
    },
    {
      "cell_type": "code",
      "source": [
        "def decode_review(text):\n",
        "  return \" \".join([reverse_word_index.get(i, \"?\") for i in text])"
      ],
      "metadata": {
        "id": "UbuzyX2q8zVO"
      },
      "execution_count": 26,
      "outputs": []
    },
    {
      "cell_type": "code",
      "source": [
        "model = keras.Sequential()\n",
        "model.add(keras.layers.Embedding(10000, 16))\n",
        "model.add(keras.layers.GlobalAveragePooling1D())\n",
        "model.add(keras.layers.Dense(16, activation=\"relu\"))\n",
        "model.add(keras.layers.Dense(1, activation=\"sigmoid\"))"
      ],
      "metadata": {
        "id": "AF-vHahpQPyC"
      },
      "execution_count": 27,
      "outputs": []
    },
    {
      "cell_type": "code",
      "source": [
        "model.summary()"
      ],
      "metadata": {
        "colab": {
          "base_uri": "https://localhost:8080/"
        },
        "id": "PSHmaaz6iTx2",
        "outputId": "a0887cfd-e5ec-4555-fb41-df45e2e4cb27"
      },
      "execution_count": 28,
      "outputs": [
        {
          "output_type": "stream",
          "name": "stdout",
          "text": [
            "Model: \"sequential_1\"\n",
            "_________________________________________________________________\n",
            " Layer (type)                Output Shape              Param #   \n",
            "=================================================================\n",
            " embedding_1 (Embedding)     (None, None, 16)          160000    \n",
            "                                                                 \n",
            " global_average_pooling1d_1   (None, 16)               0         \n",
            " (GlobalAveragePooling1D)                                        \n",
            "                                                                 \n",
            " dense_2 (Dense)             (None, 16)                272       \n",
            "                                                                 \n",
            " dense_3 (Dense)             (None, 1)                 17        \n",
            "                                                                 \n",
            "=================================================================\n",
            "Total params: 160,289\n",
            "Trainable params: 160,289\n",
            "Non-trainable params: 0\n",
            "_________________________________________________________________\n"
          ]
        }
      ]
    },
    {
      "cell_type": "code",
      "source": [
        "model.compile(optimizer=\"adam\", loss=\"binary_crossentropy\", metrics=[\"accuracy\"])"
      ],
      "metadata": {
        "id": "opBtyQ8BifLw"
      },
      "execution_count": 29,
      "outputs": []
    },
    {
      "cell_type": "code",
      "source": [
        "x_val = train_data[:10000]\n",
        "x_train = train_data[10000:]"
      ],
      "metadata": {
        "id": "nOuvFG8kixJX"
      },
      "execution_count": 44,
      "outputs": []
    },
    {
      "cell_type": "code",
      "source": [
        "y_val = train_labels[:10000]\n",
        "y_train = train_labels[10000:]"
      ],
      "metadata": {
        "id": "m1Bp4-sSi3w2"
      },
      "execution_count": 45,
      "outputs": []
    },
    {
      "cell_type": "code",
      "source": [
        "fitModel = model.fit(x_train, y_train, epochs=40, batch_size=512, validation_data=(x_val, y_val), verbose=1)"
      ],
      "metadata": {
        "colab": {
          "base_uri": "https://localhost:8080/"
        },
        "id": "_UupiPcUjJfz",
        "outputId": "92d82d46-1aa9-41f1-8a77-b132569fd5d4"
      },
      "execution_count": 46,
      "outputs": [
        {
          "output_type": "stream",
          "name": "stdout",
          "text": [
            "Epoch 1/40\n",
            "30/30 [==============================] - 1s 25ms/step - loss: 0.0196 - accuracy: 0.9986 - val_loss: 0.5097 - val_accuracy: 0.8664\n",
            "Epoch 2/40\n",
            "30/30 [==============================] - 1s 24ms/step - loss: 0.0190 - accuracy: 0.9986 - val_loss: 0.5117 - val_accuracy: 0.8661\n",
            "Epoch 3/40\n",
            "30/30 [==============================] - 1s 23ms/step - loss: 0.0182 - accuracy: 0.9986 - val_loss: 0.5173 - val_accuracy: 0.8659\n",
            "Epoch 4/40\n",
            "30/30 [==============================] - 1s 21ms/step - loss: 0.0175 - accuracy: 0.9987 - val_loss: 0.5228 - val_accuracy: 0.8665\n",
            "Epoch 5/40\n",
            "30/30 [==============================] - 1s 22ms/step - loss: 0.0170 - accuracy: 0.9987 - val_loss: 0.5264 - val_accuracy: 0.8661\n",
            "Epoch 6/40\n",
            "30/30 [==============================] - 1s 23ms/step - loss: 0.0164 - accuracy: 0.9988 - val_loss: 0.5313 - val_accuracy: 0.8665\n",
            "Epoch 7/40\n",
            "30/30 [==============================] - 1s 23ms/step - loss: 0.0157 - accuracy: 0.9990 - val_loss: 0.5365 - val_accuracy: 0.8655\n",
            "Epoch 8/40\n",
            "30/30 [==============================] - 1s 21ms/step - loss: 0.0153 - accuracy: 0.9989 - val_loss: 0.5442 - val_accuracy: 0.8654\n",
            "Epoch 9/40\n",
            "30/30 [==============================] - 1s 21ms/step - loss: 0.0146 - accuracy: 0.9993 - val_loss: 0.5471 - val_accuracy: 0.8653\n",
            "Epoch 10/40\n",
            "30/30 [==============================] - 1s 23ms/step - loss: 0.0140 - accuracy: 0.9991 - val_loss: 0.5519 - val_accuracy: 0.8653\n",
            "Epoch 11/40\n",
            "30/30 [==============================] - 1s 23ms/step - loss: 0.0136 - accuracy: 0.9991 - val_loss: 0.5580 - val_accuracy: 0.8648\n",
            "Epoch 12/40\n",
            "30/30 [==============================] - 1s 29ms/step - loss: 0.0129 - accuracy: 0.9993 - val_loss: 0.5646 - val_accuracy: 0.8647\n",
            "Epoch 13/40\n",
            "30/30 [==============================] - 1s 33ms/step - loss: 0.0124 - accuracy: 0.9992 - val_loss: 0.5681 - val_accuracy: 0.8652\n",
            "Epoch 14/40\n",
            "30/30 [==============================] - 1s 40ms/step - loss: 0.0118 - accuracy: 0.9993 - val_loss: 0.5748 - val_accuracy: 0.8651\n",
            "Epoch 15/40\n",
            "30/30 [==============================] - 1s 21ms/step - loss: 0.0113 - accuracy: 0.9993 - val_loss: 0.5782 - val_accuracy: 0.8653\n",
            "Epoch 16/40\n",
            "30/30 [==============================] - 1s 22ms/step - loss: 0.0107 - accuracy: 0.9993 - val_loss: 0.5855 - val_accuracy: 0.8648\n",
            "Epoch 17/40\n",
            "30/30 [==============================] - 1s 24ms/step - loss: 0.0101 - accuracy: 0.9993 - val_loss: 0.5897 - val_accuracy: 0.8639\n",
            "Epoch 18/40\n",
            "30/30 [==============================] - 1s 23ms/step - loss: 0.0097 - accuracy: 0.9994 - val_loss: 0.5974 - val_accuracy: 0.8646\n",
            "Epoch 19/40\n",
            "30/30 [==============================] - 1s 21ms/step - loss: 0.0095 - accuracy: 0.9995 - val_loss: 0.6018 - val_accuracy: 0.8647\n",
            "Epoch 20/40\n",
            "30/30 [==============================] - 1s 22ms/step - loss: 0.0088 - accuracy: 0.9995 - val_loss: 0.6075 - val_accuracy: 0.8639\n",
            "Epoch 21/40\n",
            "30/30 [==============================] - 1s 20ms/step - loss: 0.0085 - accuracy: 0.9995 - val_loss: 0.6101 - val_accuracy: 0.8642\n",
            "Epoch 22/40\n",
            "30/30 [==============================] - 1s 23ms/step - loss: 0.0082 - accuracy: 0.9995 - val_loss: 0.6170 - val_accuracy: 0.8638\n",
            "Epoch 23/40\n",
            "30/30 [==============================] - 1s 23ms/step - loss: 0.0078 - accuracy: 0.9997 - val_loss: 0.6262 - val_accuracy: 0.8640\n",
            "Epoch 24/40\n",
            "30/30 [==============================] - 1s 23ms/step - loss: 0.0076 - accuracy: 0.9997 - val_loss: 0.6276 - val_accuracy: 0.8635\n",
            "Epoch 25/40\n",
            "30/30 [==============================] - 1s 21ms/step - loss: 0.0072 - accuracy: 0.9997 - val_loss: 0.6319 - val_accuracy: 0.8636\n",
            "Epoch 26/40\n",
            "30/30 [==============================] - 1s 23ms/step - loss: 0.0071 - accuracy: 0.9997 - val_loss: 0.6394 - val_accuracy: 0.8640\n",
            "Epoch 27/40\n",
            "30/30 [==============================] - 1s 22ms/step - loss: 0.0069 - accuracy: 0.9998 - val_loss: 0.6463 - val_accuracy: 0.8633\n",
            "Epoch 28/40\n",
            "30/30 [==============================] - 1s 22ms/step - loss: 0.0067 - accuracy: 0.9998 - val_loss: 0.6457 - val_accuracy: 0.8634\n",
            "Epoch 29/40\n",
            "30/30 [==============================] - 1s 23ms/step - loss: 0.0063 - accuracy: 0.9998 - val_loss: 0.6547 - val_accuracy: 0.8638\n",
            "Epoch 30/40\n",
            "30/30 [==============================] - 1s 34ms/step - loss: 0.0060 - accuracy: 0.9998 - val_loss: 0.6559 - val_accuracy: 0.8626\n",
            "Epoch 31/40\n",
            "30/30 [==============================] - 1s 40ms/step - loss: 0.0058 - accuracy: 0.9998 - val_loss: 0.6616 - val_accuracy: 0.8632\n",
            "Epoch 32/40\n",
            "30/30 [==============================] - 1s 30ms/step - loss: 0.0056 - accuracy: 0.9998 - val_loss: 0.6651 - val_accuracy: 0.8636\n",
            "Epoch 33/40\n",
            "30/30 [==============================] - 1s 23ms/step - loss: 0.0054 - accuracy: 0.9998 - val_loss: 0.6710 - val_accuracy: 0.8630\n",
            "Epoch 34/40\n",
            "30/30 [==============================] - 1s 22ms/step - loss: 0.0053 - accuracy: 0.9998 - val_loss: 0.6783 - val_accuracy: 0.8629\n",
            "Epoch 35/40\n",
            "30/30 [==============================] - 1s 22ms/step - loss: 0.0051 - accuracy: 0.9998 - val_loss: 0.6797 - val_accuracy: 0.8630\n",
            "Epoch 36/40\n",
            "30/30 [==============================] - 1s 23ms/step - loss: 0.0049 - accuracy: 0.9999 - val_loss: 0.6859 - val_accuracy: 0.8619\n",
            "Epoch 37/40\n",
            "30/30 [==============================] - 1s 23ms/step - loss: 0.0048 - accuracy: 0.9998 - val_loss: 0.6933 - val_accuracy: 0.8630\n",
            "Epoch 38/40\n",
            "30/30 [==============================] - 1s 20ms/step - loss: 0.0046 - accuracy: 0.9998 - val_loss: 0.6945 - val_accuracy: 0.8621\n",
            "Epoch 39/40\n",
            "30/30 [==============================] - 1s 23ms/step - loss: 0.0044 - accuracy: 0.9999 - val_loss: 0.6972 - val_accuracy: 0.8626\n",
            "Epoch 40/40\n",
            "30/30 [==============================] - 1s 21ms/step - loss: 0.0044 - accuracy: 0.9998 - val_loss: 0.7031 - val_accuracy: 0.8621\n"
          ]
        }
      ]
    },
    {
      "cell_type": "code",
      "source": [
        "results = model.evaluate(test_data, test_labels)"
      ],
      "metadata": {
        "colab": {
          "base_uri": "https://localhost:8080/"
        },
        "id": "_fx1SxXejWhB",
        "outputId": "1d658c87-9d38-44b3-d5bc-ff62f96181e2"
      },
      "execution_count": 33,
      "outputs": [
        {
          "output_type": "stream",
          "name": "stdout",
          "text": [
            "782/782 [==============================] - 2s 2ms/step - loss: 0.3305 - accuracy: 0.8713\n"
          ]
        }
      ]
    },
    {
      "cell_type": "code",
      "source": [
        "print(results)"
      ],
      "metadata": {
        "colab": {
          "base_uri": "https://localhost:8080/"
        },
        "id": "UkfH2Z8mjgCo",
        "outputId": "b0b524ac-4d08-40b9-f8b3-fd5556d7f35a"
      },
      "execution_count": 34,
      "outputs": [
        {
          "output_type": "stream",
          "name": "stdout",
          "text": [
            "[0.33047688007354736, 0.8713200092315674]\n"
          ]
        }
      ]
    },
    {
      "cell_type": "code",
      "source": [
        "test_review = test_data[0]\n",
        "predict = model.predict(np.array([test_review]))\n",
        "print(\"Review: \")\n",
        "print(decode_review(test_review))\n",
        "print(\"Prediction: \" + str(predict[0]))\n",
        "print(\"Actual: \" + str(test_labels[0]))\n",
        "print(results)"
      ],
      "metadata": {
        "colab": {
          "base_uri": "https://localhost:8080/"
        },
        "id": "Jcr_h5t3jviO",
        "outputId": "67204833-c8f2-42a5-c0c6-1b5767a10b2d"
      },
      "execution_count": 47,
      "outputs": [
        {
          "output_type": "stream",
          "name": "stdout",
          "text": [
            "1/1 [==============================] - 0s 68ms/step\n",
            "Review: \n",
            "<START> please give this one a miss br br <UNK> <UNK> and the rest of the cast rendered terrible performances the show is flat flat flat br br i don't know how michael madison could have allowed this one on his plate he almost seemed to know this wasn't going to work out and his performance was quite <UNK> so all you madison fans give this a miss <PAD> <PAD> <PAD> <PAD> <PAD> <PAD> <PAD> <PAD> <PAD> <PAD> <PAD> <PAD> <PAD> <PAD> <PAD> <PAD> <PAD> <PAD> <PAD> <PAD> <PAD> <PAD> <PAD> <PAD> <PAD> <PAD> <PAD> <PAD> <PAD> <PAD> <PAD> <PAD> <PAD> <PAD> <PAD> <PAD> <PAD> <PAD> <PAD> <PAD> <PAD> <PAD> <PAD> <PAD> <PAD> <PAD> <PAD> <PAD> <PAD> <PAD> <PAD> <PAD> <PAD> <PAD> <PAD> <PAD> <PAD> <PAD> <PAD> <PAD> <PAD> <PAD> <PAD> <PAD> <PAD> <PAD> <PAD> <PAD> <PAD> <PAD> <PAD> <PAD> <PAD> <PAD> <PAD> <PAD> <PAD> <PAD> <PAD> <PAD> <PAD> <PAD> <PAD> <PAD> <PAD> <PAD> <PAD> <PAD> <PAD> <PAD> <PAD> <PAD> <PAD> <PAD> <PAD> <PAD> <PAD> <PAD> <PAD> <PAD> <PAD> <PAD> <PAD> <PAD> <PAD> <PAD> <PAD> <PAD> <PAD> <PAD> <PAD> <PAD> <PAD> <PAD> <PAD> <PAD> <PAD> <PAD> <PAD> <PAD> <PAD> <PAD> <PAD> <PAD> <PAD> <PAD> <PAD> <PAD> <PAD> <PAD> <PAD> <PAD> <PAD> <PAD> <PAD> <PAD> <PAD> <PAD> <PAD> <PAD> <PAD> <PAD> <PAD> <PAD> <PAD> <PAD> <PAD> <PAD> <PAD> <PAD> <PAD> <PAD> <PAD> <PAD> <PAD> <PAD> <PAD> <PAD> <PAD> <PAD> <PAD> <PAD> <PAD> <PAD> <PAD> <PAD> <PAD> <PAD> <PAD> <PAD> <PAD> <PAD> <PAD> <PAD> <PAD> <PAD> <PAD> <PAD> <PAD> <PAD> <PAD> <PAD>\n",
            "Prediction: [0.00490951]\n",
            "Actual: 0\n",
            "[0.33047688007354736, 0.8713200092315674]\n"
          ]
        }
      ]
    }
  ]
}